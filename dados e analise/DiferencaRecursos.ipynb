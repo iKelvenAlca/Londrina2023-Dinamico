{
 "cells": [
  {
   "cell_type": "code",
   "execution_count": 15,
   "metadata": {},
   "outputs": [
    {
     "data": {
      "application/vnd.plotly.v1+json": {
       "config": {
        "plotlyServerURL": "https://plot.ly"
       },
       "data": [
        {
         "alignmentgroup": "True",
         "hovertemplate": "Repasse previsto=%{x}<br>Beneficiario=%{y}<extra></extra>",
         "legendgroup": "",
         "marker": {
          "color": "skyblue",
          "pattern": {
           "shape": ""
          }
         },
         "name": "",
         "offsetgroup": "",
         "orientation": "h",
         "showlegend": false,
         "textposition": "auto",
         "type": "bar",
         "x": [
          130000,
          52310.74,
          330000,
          349280.76,
          75900,
          957442.31,
          52310.74,
          219970,
          1104932.66,
          1451517.6,
          1627521.74,
          814046.36,
          1296747.92,
          260000,
          3633778.46,
          260000,
          501308.08,
          120000,
          1733325.1,
          691523.04,
          431507.7,
          919145.38,
          725283.92,
          5805695.22,
          300000,
          120000,
          100000,
          180550.34,
          260000,
          259873,
          3681993.12,
          777180.44,
          2520940.68,
          1094388.88,
          150000,
          130000,
          130000,
          150000,
          137000,
          677071.72,
          80000,
          98478.64,
          20000,
          80000,
          4032287.9,
          1327418.38,
          20000,
          259668.64,
          939544.06,
          1013980.38,
          702699.4,
          983252.4,
          870003.68,
          1042464.8,
          360000,
          257930.4,
          892328.58,
          80000,
          871823.68,
          130000,
          327290.08,
          80000,
          1159790.32,
          614817.58,
          42899.5,
          40000,
          20000,
          20000,
          40000,
          98478.64,
          20000,
          130000,
          50000,
          40000,
          100550.34,
          50000,
          40000,
          100000,
          99700,
          25000,
          98478.64,
          3860715.04,
          467048,
          92550.34,
          25600,
          555099.56,
          742303.64,
          77940,
          1314475.77,
          75229.7,
          412688.64,
          1294409.48,
          339963.48,
          1387820.72,
          193447.8,
          1071162.56,
          259359.47,
          557000,
          25000,
          25000,
          98478.64,
          398478.64,
          20000,
          98478.64,
          1902199.4,
          195693.14,
          20000,
          40000,
          20000,
          20000,
          20000,
          25000,
          20000,
          60000,
          20000,
          20000,
          173478.64,
          40000,
          20000,
          40000,
          50000,
          40000,
          40000,
          80000,
          3332420.04,
          8185649.539999999,
          70000,
          20000,
          20000,
          20000,
          4952429.16,
          25000,
          73500,
          250000,
          40000,
          40000,
          98478.64,
          26260000,
          98478.64,
          80000,
          1896917.2,
          98478.64,
          25000,
          20000,
          96700,
          20000,
          45000,
          40000,
          52310.74,
          2108703.11,
          40000,
          20000,
          1419158.52,
          872786.08,
          447596.5,
          100392.7,
          897417.44,
          22619.04,
          20000,
          20000,
          40000,
          52310.74,
          98478.64,
          20000,
          40000,
          50000,
          20000,
          25000,
          90000,
          40000,
          40000,
          25000
         ],
         "xaxis": "x",
         "y": [
          "AGENCIA ADVENTISTA DE DESENVOLVIMENTO E RECURSOS ASSISTENCIAIS SUL",
          "ALEXANDRE DE OLIVEIRA SIMIONI",
          "ALMA ASSOCIACAO INTERCULTURAL DE PROJETOS SOCIAIS",
          "APAE  ASSOCIACAO DE PAIS E AMIGOS DOS EXCEPCIONAIS DE LONDRINA",
          "APMF COLEGIO ESTADUAL MARCELINO CHAMPAGNAT",
          "APMI ASSOCIACAO DE PROT A MATERNIDADE E INF GUARDA MIRIM DE LONDRINA",
          "ARTHUR HENRIQUE DE DEUS RIBEIRO DOS SANTOS",
          "ARTIS COLEGIUM",
          "ASSISTENCIA LAR ESPERANCA DE LONDRINA",
          "ASSOCIACAO ALAIDE FAUSTO DE SOUZA",
          "ASSOCIACAO ANO 53",
          "ASSOCIACAO BENEFICENTE DOS AMIGOS DA CRIANCA MANTENEDORA DO CEI",
          "ASSOCIACAO BENEFICENTE DOS BAIRROS DA AMIZADE",
          "ASSOCIACAO BRASILEIRA DE EDUCACAO E CULTURA ABEC",
          "ASSOCIACAO CRISTA EVANGELIZADORA BENEFICENTE ACEB",
          "ASSOCIACAO CULTURAL UM CANTO EM CADA CANTO",
          "ASSOCIACAO DA COMUNIDADE DOS SAGRADOS CORACOES CRECHE BOA ESPERANCA",
          "ASSOCIACAO DE ARTE E CULTURA DE LONDRINA - CORRE",
          "ASSOCIACAO DE MAES E PAIS DO CONJUNTO AQUILES STENGHEL",
          "ASSOCIACAO DE MORADORES DE PAIQUERE",
          "ASSOCIACAO DE MULHERES SOLIDARIAS DO JARDIM INTERLAGOS E ADJACENCIAS",
          "ASSOCIACAO DE PAIS E AMIGOS DE PORTADORES DE SINDROME DE DOWN",
          "ASSOCIACAO DE VOLUNTARIAS MAE DA ESPERANCA",
          "ASSOCIACAO DO CLUBE DE MAES CJ H MARIA C S DE OLIVEIRA",
          "ASSOCIACAO DOS AMIGOS DO FESTIVAL DE MUSICA DE LONDRINA",
          "ASSOCIACAO DOS AMIGOS DO MUSEU HISTORICO DE LONDRINA - ASAM",
          "ASSOCIACAO DOS PROFIS DA DANCA DE LONDRINA E REGIAO NORTE DO PARANA",
          "ASSOCIACAO DOS PROFISSIONAIS DE ARTE DE LONDRINA",
          "ASSOCIACAO ESPORTIVA DE LONDRINA",
          "ASSOCIACAO EVANGELICA BENEFICENTE DE LONDRINA - AEBEL",
          "ASSOCIACAO FACA UMA CRIANCA FELIZ",
          "ASSOCIACAO FEMININA EVANGELICA BENEFICIENTE DE LONDRINA",
          "ASSOCIACAO FLAVIA CRISTINA",
          "ASSOCIACAO INTERNACIONAL DE CARIDADE DE LONDRINA - AICL",
          "ASSOCIACAO LONDRINENSE DE CIRCO",
          "ASSOCIACAO MAOS ESTENDIDAS",
          "ASSOCIACAO MEDICA DE LONDRINA",
          "ASSOCIACAO OGUIDO DOJO",
          "ASSOCIACAO PE VERMELHO DE ESPORTES",
          "ASSOCIACAO PRO CRIANCA",
          "ASSOCIACAO PROMUSICANDO",
          "BLANCO EDITORA E AUDIOVISUAL LTDA",
          "BRUNA BOLOGNESI SABINO",
          "CASA ACOLHEDORA MAE E SENHORA DE TODOS OS POVOS",
          "CASA DO BOM SAMARITANO INST PROM SOCIAL DE LONDRINA",
          "CASA DO CAMINHO ALBERGUE INFANTIL",
          "CECILIA DE SOUZA PEREIRA BANDEIRA",
          "CENTRO DE APOIO E REAB DOS PORTAD FISSURA LABIO PALATAL LONDR E REGIAO - CEFIL",
          "CENTRO DE EDUCACAO INFANTIL DR JORGE DIB ABUSSAFI",
          "CENTRO DE EDUCACAO INFANTIL IRMAS DE BETANIA",
          "CENTRO DE EDUCACAO INFANTIL MILTON GAVETTI",
          "CENTRO DE EDUCACAO INFANTIL PADRE DOMINGOS ROVEDATTI",
          "CENTRO DE EDUCACAO INFANTIL SAO JOSE",
          "CENTRO DE EDUCACAO INFANTIL TIA LANA",
          "CENTRO ESPERANCA POR AMOR SOCIAL",
          "CENTRO OCUPACIONAL DE LONDRINA",
          "CENTRO OURO BRANCO DE ASSISTENCIA AO MENOR",
          "CLUBE DAS MAES UNIDAS",
          "CLUBE DE MAES DO CONJUNTO HABITACIONAL VIVI XAVIER",
          "COMUNHAO ESPIRITA CRISTA DE LONDRINA",
          "COMUNIDADE EVANGELICA DE LIBERTACAO",
          "CONCHA ASSOCIACAO DOS AMIGOS E MORADORES DO CENTRO HISTORICO DE LONDRINA",
          "CRECHE IMACULADA CONCEICAO",
          "CRECHE NOVO AMPARO",
          "CRISTMA MOVIMENTO CRISTO TE AMA",
          "Camila Ferreira de Oliveira",
          "Carolina fernanda Almeida Sanches",
          "DAMIAO RODRIGUES DA SILVA",
          "DOUGLAS CASTANHO MENDES FERREIRA",
          "E. M. SANTOS JUNIOR PRODUï¿½ï¿½ES LTDA.",
          "EDIO ELIAS GONCALVES",
          "ESPAï¿½O VILLA RICA LTDA",
          "Edna Aparecida Aguiar",
          "FAGNER BRUNO DE SOUZA",
          "FUNDACAO CULTURA ARTISTICA DE LONDRINA FUNCART",
          "Francielly Hellena Camilo",
          "GELSON AMARAL GOMES",
          "GRAFATORIO",
          "GREMIO RECREATIVO CULTURAL ESCOLA DE SAMBA EXPLODE CORACAO",
          "GUILHERME ALEXANDRE OLIVEIRA SANTANA",
          "H2H VISUAL MEDIA LTDA",
          "INSTITUTO ALICERCE",
          "INSTITUTO CIDADANIA",
          "INSTITUTO COLETIVO BLACK DIVAS",
          "INSTITUTO CULTURAL E SOCIAL ISHINDAIKO",
          "INSTITUTO DE CINEMA E VIDEO DE LONDRINA - KINOARTE",
          "INSTITUTO INABRASIL",
          "INSTITUTO JOSE GONZAGA VIEIRA",
          "INSTITUTO LEONARDO MURIALDO",
          "INSTITUTO LONDRINENSE DE EDUCACAO DE SURDOS",
          "INSTITUTO LONDRINENSE DE EDUCACAO PARA CRIANCAS EXCEPCIONAIS",
          "INSTITUTO MATHEUS EMMANUEL DE LONDRINA - IMEL",
          "INSTITUTO Nï¿½O ME ESQUEï¿½AS",
          "INSTITUTO Pï¿½ VERMELHO",
          "INSTITUTO ROBERTO MIRANDA",
          "INSTITUTO SOCIAL EDUCATIVO E BENEFICENTE NOVO SIGNO",
          "INSTITUTO UNIï¿½O PARA A VITï¿½RIA (EUROBASE)",
          "IPEC INSTITUTO PARANAENSE DE ESPORTES E CULTURA",
          "JOSE PAULO BRISOLLA DE OLIVEIRA",
          "JOï¿½O VITOR VIANA RIBEIRO",
          "KAN COMUNICACAO EDITORA E AUDIOVISUAL LTDA",
          "KINOPUS AUDIOVISUAL LTDA ME",
          "Karoline Tiemi Nakahara",
          "L S PASCOAL PRODUCOES ME",
          "LAR ANALIA FRANCO DE LONDRINA",
          "LAR MARIA TEREZA VIEIRA DE LONDRINA",
          "LEANDRO CLAUDINO DA SILVA",
          "LEANDRO HENRIQUE MAGALHAES",
          "LOUISA SAVIGNON LEPRI",
          "LUCAS DAMETTO MANFRE",
          "LUCIANO FARINA GALBIATI",
          "Lara Britto Moratto",
          "Layse Barnabï¿½ de Moraes",
          "Luana Karoline Rodrigues Santos",
          "Lucas Guilherme da Silva Alves dos Santos",
          "Luciana Aparecida Schmidt dos Santos",
          "M C EDUCRIATIVA LTDA",
          "MAIKON NERY BERNARDINO",
          "MARCILENE JORGE DOS SANTOS",
          "MARCIO TRIACHINI CODAGNONE",
          "MARCO ANTONIO DA COSTA",
          "MARIA EDUARDA GOMES DE OLIVEIRA",
          "MARï¿½LIA DIOGO",
          "MINISTERIO EVANGELICO PROVIDA MEPROVI",
          "MISSAO CASA VERDE",
          "MMA - MINISTERIO DE MISSOES E ADORACAO INTERDENOMINACIONAL DO BRASIL",
          "Mateus Barboni dos Santos",
          "NATHALI ABATTI",
          "NAYARA SOUZA ROCHA",
          "NEREU PEREIRA",
          "NUCLEO SOCIAL EVANGELICO DE LONDRINA",
          "Nathalia Diovanna Carvalho Vicente",
          "OBRAS ASSIST. ASILO SAO VICENTE DE PAULO",
          "ORGANIZACAO VIVER",
          "Osï¿½rio Perez Moreira",
          "PAULO VITOR POLONI ALEIXO",
          "PLAVA PRODUTORA AUDIOVISUAL LTDA",
          "PREFEITURA DO MUNICIPIO DE LONDRINA",
          "PRODUTORA DO LESTE LTDA ME",
          "PROJETO PLANTAO SORRISO",
          "PROJETO RENASCER RESGATANDO VIDAS",
          "R SHIZUKO TAKAMATSU FILMES ME",
          "RAFAEL SILVA RODRIGUES",
          "RHAISSA BARBOSA DE PAULA",
          "RIBEIRO VIDEO PRODUTORA LTDA",
          "ROSANA ANDRADE LOPES",
          "Rafael Pereira da Silva",
          "Raquel Medeiros Deliberador",
          "Renata Mariano Landgraf",
          "SERVICO DE OBRAS SOCIAIS DE LONDRINA",
          "SERVICO SOCIAL DA INDUSTRIA SESI",
          "SILVIA BORBA DA COSTA",
          "SOCIEDADE BENEFICENTE MENINO DEUS",
          "SOCIEDADE BENEFICENTE NOSSA ESPERANCA",
          "SOCIEDADE DO CENTRO DE EDUCACAO INFANTIL DEBORA DIAS",
          "SOCIEDADE ESPIRITA DE PROMOCAO SOCIAL - SEPS",
          "SOCIEDADE MANTENEDORA DE ASSISTENCIA SOMA",
          "SOVIDA ASSOCIACAO VOLUNTARIOS DA VIDA",
          "TALYTA ELEN FERREIRA TEODORO",
          "TIAGO MARQUES DA SILVA",
          "Thainara Pereira da Silva",
          "Thyago Bezerra Melo e Silva",
          "UABI ARQUITETURA E URBANISMO LTDA ME",
          "VALDIR ALMEIDA DA SILVA",
          "VASCO PEREZ GIUFRIDA",
          "VICTORIA CAROLINE LIRA FURTADO DOS SANTOS",
          "VINICIUS BARDI CASTILHO",
          "Vanessa Nakadomari",
          "Victor Hugo de Souza Santos",
          "WELLINGTON VICTOR PEREIRA DA SILVA",
          "YAN MARAN KOMATSU CAVALCANTE",
          "kaedmon Sollberg Soares"
         ],
         "yaxis": "y"
        }
       ],
       "layout": {
        "barmode": "relative",
        "height": 500,
        "legend": {
         "tracegroupgap": 0
        },
        "template": {
         "data": {
          "bar": [
           {
            "error_x": {
             "color": "#2a3f5f"
            },
            "error_y": {
             "color": "#2a3f5f"
            },
            "marker": {
             "line": {
              "color": "#E5ECF6",
              "width": 0.5
             },
             "pattern": {
              "fillmode": "overlay",
              "size": 10,
              "solidity": 0.2
             }
            },
            "type": "bar"
           }
          ],
          "barpolar": [
           {
            "marker": {
             "line": {
              "color": "#E5ECF6",
              "width": 0.5
             },
             "pattern": {
              "fillmode": "overlay",
              "size": 10,
              "solidity": 0.2
             }
            },
            "type": "barpolar"
           }
          ],
          "carpet": [
           {
            "aaxis": {
             "endlinecolor": "#2a3f5f",
             "gridcolor": "white",
             "linecolor": "white",
             "minorgridcolor": "white",
             "startlinecolor": "#2a3f5f"
            },
            "baxis": {
             "endlinecolor": "#2a3f5f",
             "gridcolor": "white",
             "linecolor": "white",
             "minorgridcolor": "white",
             "startlinecolor": "#2a3f5f"
            },
            "type": "carpet"
           }
          ],
          "choropleth": [
           {
            "colorbar": {
             "outlinewidth": 0,
             "ticks": ""
            },
            "type": "choropleth"
           }
          ],
          "contour": [
           {
            "colorbar": {
             "outlinewidth": 0,
             "ticks": ""
            },
            "colorscale": [
             [
              0,
              "#0d0887"
             ],
             [
              0.1111111111111111,
              "#46039f"
             ],
             [
              0.2222222222222222,
              "#7201a8"
             ],
             [
              0.3333333333333333,
              "#9c179e"
             ],
             [
              0.4444444444444444,
              "#bd3786"
             ],
             [
              0.5555555555555556,
              "#d8576b"
             ],
             [
              0.6666666666666666,
              "#ed7953"
             ],
             [
              0.7777777777777778,
              "#fb9f3a"
             ],
             [
              0.8888888888888888,
              "#fdca26"
             ],
             [
              1,
              "#f0f921"
             ]
            ],
            "type": "contour"
           }
          ],
          "contourcarpet": [
           {
            "colorbar": {
             "outlinewidth": 0,
             "ticks": ""
            },
            "type": "contourcarpet"
           }
          ],
          "heatmap": [
           {
            "colorbar": {
             "outlinewidth": 0,
             "ticks": ""
            },
            "colorscale": [
             [
              0,
              "#0d0887"
             ],
             [
              0.1111111111111111,
              "#46039f"
             ],
             [
              0.2222222222222222,
              "#7201a8"
             ],
             [
              0.3333333333333333,
              "#9c179e"
             ],
             [
              0.4444444444444444,
              "#bd3786"
             ],
             [
              0.5555555555555556,
              "#d8576b"
             ],
             [
              0.6666666666666666,
              "#ed7953"
             ],
             [
              0.7777777777777778,
              "#fb9f3a"
             ],
             [
              0.8888888888888888,
              "#fdca26"
             ],
             [
              1,
              "#f0f921"
             ]
            ],
            "type": "heatmap"
           }
          ],
          "heatmapgl": [
           {
            "colorbar": {
             "outlinewidth": 0,
             "ticks": ""
            },
            "colorscale": [
             [
              0,
              "#0d0887"
             ],
             [
              0.1111111111111111,
              "#46039f"
             ],
             [
              0.2222222222222222,
              "#7201a8"
             ],
             [
              0.3333333333333333,
              "#9c179e"
             ],
             [
              0.4444444444444444,
              "#bd3786"
             ],
             [
              0.5555555555555556,
              "#d8576b"
             ],
             [
              0.6666666666666666,
              "#ed7953"
             ],
             [
              0.7777777777777778,
              "#fb9f3a"
             ],
             [
              0.8888888888888888,
              "#fdca26"
             ],
             [
              1,
              "#f0f921"
             ]
            ],
            "type": "heatmapgl"
           }
          ],
          "histogram": [
           {
            "marker": {
             "pattern": {
              "fillmode": "overlay",
              "size": 10,
              "solidity": 0.2
             }
            },
            "type": "histogram"
           }
          ],
          "histogram2d": [
           {
            "colorbar": {
             "outlinewidth": 0,
             "ticks": ""
            },
            "colorscale": [
             [
              0,
              "#0d0887"
             ],
             [
              0.1111111111111111,
              "#46039f"
             ],
             [
              0.2222222222222222,
              "#7201a8"
             ],
             [
              0.3333333333333333,
              "#9c179e"
             ],
             [
              0.4444444444444444,
              "#bd3786"
             ],
             [
              0.5555555555555556,
              "#d8576b"
             ],
             [
              0.6666666666666666,
              "#ed7953"
             ],
             [
              0.7777777777777778,
              "#fb9f3a"
             ],
             [
              0.8888888888888888,
              "#fdca26"
             ],
             [
              1,
              "#f0f921"
             ]
            ],
            "type": "histogram2d"
           }
          ],
          "histogram2dcontour": [
           {
            "colorbar": {
             "outlinewidth": 0,
             "ticks": ""
            },
            "colorscale": [
             [
              0,
              "#0d0887"
             ],
             [
              0.1111111111111111,
              "#46039f"
             ],
             [
              0.2222222222222222,
              "#7201a8"
             ],
             [
              0.3333333333333333,
              "#9c179e"
             ],
             [
              0.4444444444444444,
              "#bd3786"
             ],
             [
              0.5555555555555556,
              "#d8576b"
             ],
             [
              0.6666666666666666,
              "#ed7953"
             ],
             [
              0.7777777777777778,
              "#fb9f3a"
             ],
             [
              0.8888888888888888,
              "#fdca26"
             ],
             [
              1,
              "#f0f921"
             ]
            ],
            "type": "histogram2dcontour"
           }
          ],
          "mesh3d": [
           {
            "colorbar": {
             "outlinewidth": 0,
             "ticks": ""
            },
            "type": "mesh3d"
           }
          ],
          "parcoords": [
           {
            "line": {
             "colorbar": {
              "outlinewidth": 0,
              "ticks": ""
             }
            },
            "type": "parcoords"
           }
          ],
          "pie": [
           {
            "automargin": true,
            "type": "pie"
           }
          ],
          "scatter": [
           {
            "fillpattern": {
             "fillmode": "overlay",
             "size": 10,
             "solidity": 0.2
            },
            "type": "scatter"
           }
          ],
          "scatter3d": [
           {
            "line": {
             "colorbar": {
              "outlinewidth": 0,
              "ticks": ""
             }
            },
            "marker": {
             "colorbar": {
              "outlinewidth": 0,
              "ticks": ""
             }
            },
            "type": "scatter3d"
           }
          ],
          "scattercarpet": [
           {
            "marker": {
             "colorbar": {
              "outlinewidth": 0,
              "ticks": ""
             }
            },
            "type": "scattercarpet"
           }
          ],
          "scattergeo": [
           {
            "marker": {
             "colorbar": {
              "outlinewidth": 0,
              "ticks": ""
             }
            },
            "type": "scattergeo"
           }
          ],
          "scattergl": [
           {
            "marker": {
             "colorbar": {
              "outlinewidth": 0,
              "ticks": ""
             }
            },
            "type": "scattergl"
           }
          ],
          "scattermapbox": [
           {
            "marker": {
             "colorbar": {
              "outlinewidth": 0,
              "ticks": ""
             }
            },
            "type": "scattermapbox"
           }
          ],
          "scatterpolar": [
           {
            "marker": {
             "colorbar": {
              "outlinewidth": 0,
              "ticks": ""
             }
            },
            "type": "scatterpolar"
           }
          ],
          "scatterpolargl": [
           {
            "marker": {
             "colorbar": {
              "outlinewidth": 0,
              "ticks": ""
             }
            },
            "type": "scatterpolargl"
           }
          ],
          "scatterternary": [
           {
            "marker": {
             "colorbar": {
              "outlinewidth": 0,
              "ticks": ""
             }
            },
            "type": "scatterternary"
           }
          ],
          "surface": [
           {
            "colorbar": {
             "outlinewidth": 0,
             "ticks": ""
            },
            "colorscale": [
             [
              0,
              "#0d0887"
             ],
             [
              0.1111111111111111,
              "#46039f"
             ],
             [
              0.2222222222222222,
              "#7201a8"
             ],
             [
              0.3333333333333333,
              "#9c179e"
             ],
             [
              0.4444444444444444,
              "#bd3786"
             ],
             [
              0.5555555555555556,
              "#d8576b"
             ],
             [
              0.6666666666666666,
              "#ed7953"
             ],
             [
              0.7777777777777778,
              "#fb9f3a"
             ],
             [
              0.8888888888888888,
              "#fdca26"
             ],
             [
              1,
              "#f0f921"
             ]
            ],
            "type": "surface"
           }
          ],
          "table": [
           {
            "cells": {
             "fill": {
              "color": "#EBF0F8"
             },
             "line": {
              "color": "white"
             }
            },
            "header": {
             "fill": {
              "color": "#C8D4E3"
             },
             "line": {
              "color": "white"
             }
            },
            "type": "table"
           }
          ]
         },
         "layout": {
          "annotationdefaults": {
           "arrowcolor": "#2a3f5f",
           "arrowhead": 0,
           "arrowwidth": 1
          },
          "autotypenumbers": "strict",
          "coloraxis": {
           "colorbar": {
            "outlinewidth": 0,
            "ticks": ""
           }
          },
          "colorscale": {
           "diverging": [
            [
             0,
             "#8e0152"
            ],
            [
             0.1,
             "#c51b7d"
            ],
            [
             0.2,
             "#de77ae"
            ],
            [
             0.3,
             "#f1b6da"
            ],
            [
             0.4,
             "#fde0ef"
            ],
            [
             0.5,
             "#f7f7f7"
            ],
            [
             0.6,
             "#e6f5d0"
            ],
            [
             0.7,
             "#b8e186"
            ],
            [
             0.8,
             "#7fbc41"
            ],
            [
             0.9,
             "#4d9221"
            ],
            [
             1,
             "#276419"
            ]
           ],
           "sequential": [
            [
             0,
             "#0d0887"
            ],
            [
             0.1111111111111111,
             "#46039f"
            ],
            [
             0.2222222222222222,
             "#7201a8"
            ],
            [
             0.3333333333333333,
             "#9c179e"
            ],
            [
             0.4444444444444444,
             "#bd3786"
            ],
            [
             0.5555555555555556,
             "#d8576b"
            ],
            [
             0.6666666666666666,
             "#ed7953"
            ],
            [
             0.7777777777777778,
             "#fb9f3a"
            ],
            [
             0.8888888888888888,
             "#fdca26"
            ],
            [
             1,
             "#f0f921"
            ]
           ],
           "sequentialminus": [
            [
             0,
             "#0d0887"
            ],
            [
             0.1111111111111111,
             "#46039f"
            ],
            [
             0.2222222222222222,
             "#7201a8"
            ],
            [
             0.3333333333333333,
             "#9c179e"
            ],
            [
             0.4444444444444444,
             "#bd3786"
            ],
            [
             0.5555555555555556,
             "#d8576b"
            ],
            [
             0.6666666666666666,
             "#ed7953"
            ],
            [
             0.7777777777777778,
             "#fb9f3a"
            ],
            [
             0.8888888888888888,
             "#fdca26"
            ],
            [
             1,
             "#f0f921"
            ]
           ]
          },
          "colorway": [
           "#636efa",
           "#EF553B",
           "#00cc96",
           "#ab63fa",
           "#FFA15A",
           "#19d3f3",
           "#FF6692",
           "#B6E880",
           "#FF97FF",
           "#FECB52"
          ],
          "font": {
           "color": "#2a3f5f"
          },
          "geo": {
           "bgcolor": "white",
           "lakecolor": "white",
           "landcolor": "#E5ECF6",
           "showlakes": true,
           "showland": true,
           "subunitcolor": "white"
          },
          "hoverlabel": {
           "align": "left"
          },
          "hovermode": "closest",
          "mapbox": {
           "style": "light"
          },
          "paper_bgcolor": "white",
          "plot_bgcolor": "#E5ECF6",
          "polar": {
           "angularaxis": {
            "gridcolor": "white",
            "linecolor": "white",
            "ticks": ""
           },
           "bgcolor": "#E5ECF6",
           "radialaxis": {
            "gridcolor": "white",
            "linecolor": "white",
            "ticks": ""
           }
          },
          "scene": {
           "xaxis": {
            "backgroundcolor": "#E5ECF6",
            "gridcolor": "white",
            "gridwidth": 2,
            "linecolor": "white",
            "showbackground": true,
            "ticks": "",
            "zerolinecolor": "white"
           },
           "yaxis": {
            "backgroundcolor": "#E5ECF6",
            "gridcolor": "white",
            "gridwidth": 2,
            "linecolor": "white",
            "showbackground": true,
            "ticks": "",
            "zerolinecolor": "white"
           },
           "zaxis": {
            "backgroundcolor": "#E5ECF6",
            "gridcolor": "white",
            "gridwidth": 2,
            "linecolor": "white",
            "showbackground": true,
            "ticks": "",
            "zerolinecolor": "white"
           }
          },
          "shapedefaults": {
           "line": {
            "color": "#2a3f5f"
           }
          },
          "ternary": {
           "aaxis": {
            "gridcolor": "white",
            "linecolor": "white",
            "ticks": ""
           },
           "baxis": {
            "gridcolor": "white",
            "linecolor": "white",
            "ticks": ""
           },
           "bgcolor": "#E5ECF6",
           "caxis": {
            "gridcolor": "white",
            "linecolor": "white",
            "ticks": ""
           }
          },
          "title": {
           "x": 0.05
          },
          "xaxis": {
           "automargin": true,
           "gridcolor": "white",
           "linecolor": "white",
           "ticks": "",
           "title": {
            "standoff": 15
           },
           "zerolinecolor": "white",
           "zerolinewidth": 2
          },
          "yaxis": {
           "automargin": true,
           "gridcolor": "white",
           "linecolor": "white",
           "ticks": "",
           "title": {
            "standoff": 15
           },
           "zerolinecolor": "white",
           "zerolinewidth": 2
          }
         }
        },
        "title": {
         "text": "Total de Investimento por Entidade"
        },
        "width": 800,
        "xaxis": {
         "anchor": "y",
         "domain": [
          0,
          1
         ],
         "title": {
          "text": "Total de Investimento (R$)"
         }
        },
        "yaxis": {
         "anchor": "x",
         "domain": [
          0,
          1
         ],
         "title": {
          "text": "Beneficiario"
         }
        }
       }
      }
     },
     "metadata": {},
     "output_type": "display_data"
    }
   ],
   "source": [
    "import pandas as pd\n",
    "import plotly.express as px\n",
    "\n",
    "# Carregar os arquivos CSV\n",
    "contratos_est_mun_df = pd.read_csv('ContratosEstMun.csv', encoding='latin1', sep=';')\n",
    "contrato_pag_df = pd.read_csv('ContratoPag.csv', encoding='latin1', sep=';')\n",
    "\n",
    "# 1. Conversão de Dados\n",
    "colunas_monetarias_est_mun = ['Repasse previsto', 'Valor Contrapartida']\n",
    "colunas_monetarias_contrato = ['Liquidado - Orçamento', 'Estornado - Orçamento', 'Liquidado - Restos a pagar', 'Estornado - Restos a pagar', 'Líquido']\n",
    "\n",
    "# Remove pontos e substitui vírgulas por ponto, em seguida, converte para float\n",
    "contratos_est_mun_df[colunas_monetarias_est_mun] = contratos_est_mun_df[colunas_monetarias_est_mun].replace('[^\\d\\.,]', '', regex=True).apply(lambda x: x.str.replace('.', '').str.replace(',', '.')).astype(float)\n",
    "contrato_pag_df[colunas_monetarias_contrato] = contrato_pag_df[colunas_monetarias_contrato].replace('[^\\d\\.,]', '', regex=True).apply(lambda x: x.str.replace('.', '').str.replace(',', '.')).astype(float)\n",
    "\n",
    "# 2. Calcular o total de investimento em cada entidade\n",
    "total_investimento = contratos_est_mun_df.groupby('Beneficiario')['Repasse previsto'].sum().reset_index()\n",
    "\n",
    "# 3. Visualização Gráfica com Plotly Express\n",
    "fig = px.bar(total_investimento, x='Repasse previsto', y='Beneficiario', orientation='h', title='Total de Investimento por Entidade')\n",
    "fig.update_traces(marker_color='skyblue')\n",
    "fig.update_layout(xaxis_title='Total de Investimento (R$)', yaxis_title='Beneficiario', height=500, width=800)\n",
    "fig.show()"
   ]
  },
  {
   "cell_type": "code",
   "execution_count": 16,
   "metadata": {},
   "outputs": [
    {
     "name": "stdout",
     "output_type": "stream",
     "text": [
      "Total Repasse Previsto: R$120,079,878.62\n",
      "Total Valor Contrapartida: R$24,905,470.10\n"
     ]
    }
   ],
   "source": [
    "total_repasse_previsto = contratos_est_mun_df['Repasse previsto'].sum()\n",
    "total_valor_contrapartida = contratos_est_mun_df['Valor Contrapartida'].sum()\n",
    "\n",
    "print(f'Total Repasse Previsto: R${total_repasse_previsto:,.2f}')\n",
    "print(f'Total Valor Contrapartida: R${total_valor_contrapartida:,.2f}')"
   ]
  },
  {
   "cell_type": "code",
   "execution_count": 17,
   "metadata": {},
   "outputs": [
    {
     "name": "stdout",
     "output_type": "stream",
     "text": [
      "A Prefeitura investiu diretamente 50.16% do total estimado.\n",
      "A Prefeitura investiu através do estado 49.84% do total estimado.\n"
     ]
    }
   ],
   "source": [
    "import pandas as pd\n",
    "\n",
    "# Carregar os arquivos CSV\n",
    "contratos_est_mun_df = pd.read_csv('ContratosEstMun.csv', encoding='latin1', sep=';')\n",
    "contrato_pag_df = pd.read_csv('ContratoPag.csv', encoding='latin1', sep=';')\n",
    "\n",
    "# 1. Conversão de Dados\n",
    "colunas_monetarias_est_mun = ['Repasse previsto', 'Valor Contrapartida']\n",
    "colunas_monetarias_contrato = ['Liquidado - Orçamento', 'Estornado - Orçamento', 'Liquidado - Restos a pagar', 'Estornado - Restos a pagar', 'Líquido']\n",
    "\n",
    "# Remove pontos e substitui vírgulas por ponto, em seguida, converte para float\n",
    "contratos_est_mun_df[colunas_monetarias_est_mun] = contratos_est_mun_df[colunas_monetarias_est_mun].replace('[^\\d\\.,]', '', regex=True).apply(lambda x: x.str.replace('.', '').str.replace(',', '.')).astype(float)\n",
    "contrato_pag_df[colunas_monetarias_contrato] = contrato_pag_df[colunas_monetarias_contrato].replace('[^\\d\\.,]', '', regex=True).apply(lambda x: x.str.replace('.', '').str.replace(',', '.')).astype(float)\n",
    "\n",
    "# 2. Calcular as somas dos investimentos\n",
    "total_estimado = contratos_est_mun_df['Repasse previsto'].sum() + contratos_est_mun_df['Valor Contrapartida'].sum()\n",
    "total_contrato = contrato_pag_df['Líquido'].sum()\n",
    "\n",
    "# 3. Calcular as porcentagens\n",
    "porcentagem_investido_direto_prefeitura = (total_contrato / total_estimado) * 100\n",
    "porcentagem_investido_atraves_estado = ((total_contrato - contrato_pag_df['Estornado - Restos a pagar'].sum()) / total_estimado) * 100\n",
    "\n",
    "# 4. Ajustar as porcentagens para totalizar 100%\n",
    "ajuste = 100 / (porcentagem_investido_direto_prefeitura + porcentagem_investido_atraves_estado)\n",
    "porcentagem_investido_direto_prefeitura *= ajuste\n",
    "porcentagem_investido_atraves_estado *= ajuste\n",
    "\n",
    "# 5. Exibir os resultados ajustados\n",
    "print(f\"A Prefeitura investiu diretamente {porcentagem_investido_direto_prefeitura:.2f}% do total estimado.\")\n",
    "print(f\"A Prefeitura investiu através do estado {porcentagem_investido_atraves_estado:.2f}% do total estimado.\")"
   ]
  },
  {
   "cell_type": "code",
   "execution_count": 18,
   "metadata": {},
   "outputs": [
    {
     "data": {
      "image/png": "[encoded data removed]",
      "text/plain": [
       "<Figure size 800x800 with 1 Axes>"
      ]
     },
     "metadata": {},
     "output_type": "display_data"
    }
   ],
   "source": [
    "import matplotlib.pyplot as plt\n",
    "\n",
    "# Dados\n",
    "labels = ['Prefeitura Diretamente', 'Prefeitura Através do estado']\n",
    "valores = [50.16, 49.84]  # Porcentagens\n",
    "\n",
    "# Cores para as fatias\n",
    "cores = ['#1f77b4', '#ff7f0e']\n",
    "\n",
    "# Criando o gráfico de pizza\n",
    "plt.figure(figsize=(8, 8))\n",
    "plt.pie(valores, labels=labels, autopct='%1.1f%%', colors=cores, startangle=140)\n",
    "\n",
    "# Adicionando título\n",
    "plt.title('Investimento da Prefeitura de Londrina')\n",
    "\n",
    "# Exibindo o gráfico\n",
    "plt.show()"
   ]
  }
 ],
 "metadata": {
  "kernelspec": {
   "display_name": "Python 3",
   "language": "python",
   "name": "python3"
  },
  "language_info": {
   "codemirror_mode": {
    "name": "ipython",
    "version": 3
   },
   "file_extension": ".py",
   "mimetype": "text/x-python",
   "name": "python",
   "nbconvert_exporter": "python",
   "pygments_lexer": "ipython3",
   "version": "3.11.2"
  }
 },
 "nbformat": 4,
 "nbformat_minor": 2
}
