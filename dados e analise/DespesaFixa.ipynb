{
 "cells": [
  {
   "cell_type": "code",
   "execution_count": 2,
   "metadata": {},
   "outputs": [
    {
     "name": "stdout",
     "output_type": "stream",
     "text": [
      "Total Gastos Fixos: R$1,537,212,936.35\n"
     ]
    }
   ],
   "source": [
    "import pandas as pd\n",
    "import matplotlib.pyplot as plt\n",
    "\n",
    "# Carregar o arquivo CSV\n",
    "despesa_fixa_df = pd.read_csv('DespesaFixOrçamento.csv', encoding='latin1', sep=';')\n",
    "\n",
    "# 1. Conversão de Dados\n",
    "colunas_monetarias_fixas = ['Empenhado', 'Liquidado', 'Pago']\n",
    "despesa_fixa_df[colunas_monetarias_fixas] = despesa_fixa_df[colunas_monetarias_fixas].replace('[^\\d\\.,]', '', regex=True).apply(lambda x: x.str.replace('.', '').str.replace(',', '.')).astype(float)\n",
    "\n",
    "# 2. Calcular o total fixo\n",
    "total_fixo = despesa_fixa_df['Pago'].sum()\n",
    "print(f'Total Gastos Fixos: R${total_fixo:,.2f}')"
   ]
  },
  {
   "cell_type": "code",
   "execution_count": 5,
   "metadata": {},
   "outputs": [
    {
     "name": "stdout",
     "output_type": "stream",
     "text": [
      "\n",
      "Órgãos mais pagos:\n",
      "                                            Órgão              Pago\n",
      "19              Secretaria Municipal de Educação  R$480,924,321.20\n",
      "20              Secretaria Municipal de Educação  R$275,288,986.96\n",
      "8                Secretaria Municipal de Fazenda  R$240,750,188.42\n",
      "16  Secretaria Municipal de Obras e Pavimentação  R$118,590,342.69\n",
      "13      Secretaria Municipal de Recursos Humanos   R$91,847,673.91\n"
     ]
    }
   ],
   "source": [
    "import matplotlib.pyplot as plt\n",
    "\n",
    "# Dados\n",
    "orgaos_mais_pagos = despesa_fixa_df.nlargest(5, 'Pago')[['Órgão', 'Pago']]\n",
    "orgaos_mais_pagos['Pago'] = orgaos_mais_pagos['Pago'].apply(lambda x: float(x.replace('R$', '').replace(',', '')))\n",
    "\n",
    "# Plotagem do gráfico\n",
    "plt.figure(figsize=(10, 6))\n",
    "plt.barh(orgaos_mais_pagos['Órgão'], orgaos_mais_pagos['Pago'], color='skyblue')\n",
    "plt.xlabel('Valor Pago (R$)')\n",
    "plt.ylabel('Órgão')\n",
    "plt.title('Órgãos mais Pagos')\n",
    "plt.gca().invert_yaxis()  # Inverter para mostrar o maior valor no topo\n",
    "plt.grid(axis='x', linestyle='--', alpha=0.7)\n",
    "plt.tight_layout()\n",
    "\n",
    "# Salvar a imagem\n",
    "plt.savefig('orgaos_mais_pagos.png', dpi=300)\n",
    "\n",
    "# Exibir o gráfico\n",
    "plt.show()\n"
   ]
  },
  {
   "cell_type": "code",
   "execution_count": 6,
   "metadata": {},
   "outputs": [
    {
     "name": "stdout",
     "output_type": "stream",
     "text": [
      "\n",
      "Distribuição dos Gastos Fixos por Unidade:\n",
      "Coordenação Geral - CG: 0.50% dos gastos fixos totais\n",
      "Coordenação Geral - CGM: 0.42% dos gastos fixos totais\n",
      "Coordenação Geral - PGM: 1.43% dos gastos fixos totais\n",
      "Coordenação Geral - SEMA: 0.92% dos gastos fixos totais\n",
      "Coordenação Geral - SMAA: 0.70% dos gastos fixos totais\n",
      "Coordenação Geral - SMAS: 3.02% dos gastos fixos totais\n",
      "Coordenação Geral - SMC: 0.66% dos gastos fixos totais\n",
      "Coordenação Geral - SMDS: 2.46% dos gastos fixos totais\n",
      "Coordenação Geral - SME: 31.29% dos gastos fixos totais\n",
      "Coordenação Geral - SMF: 2.28% dos gastos fixos totais\n",
      "Coordenação Geral - SMG: 0.22% dos gastos fixos totais\n",
      "Coordenação Geral - SMGP: 1.02% dos gastos fixos totais\n",
      "Coordenação Geral - SMI: 0.37% dos gastos fixos totais\n",
      "Coordenação Geral - SMOP: 7.71% dos gastos fixos totais\n",
      "Coordenação Geral - SMPOT: 1.05% dos gastos fixos totais\n",
      "Coordenação Geral - SMRH: 5.97% dos gastos fixos totais\n",
      "Coordenação Geral - SMTER: 0.10% dos gastos fixos totais\n",
      "Encargos do Município: 15.66% dos gastos fixos totais\n",
      "Fundo Especial de Incentivo a Projetos Culturais - FEIPC: 0.36% dos gastos fixos totais\n",
      "Fundo Mun. Proteção e Defesa do Consumidor - PROCON-Ld: 0.00% dos gastos fixos totais\n",
      "Fundo Municipal de Assistência Social - FMAS: 3.87% dos gastos fixos totais\n",
      "Fundo Municipal de Desenvolvimento Rural - FMDR: 0.00% dos gastos fixos totais\n",
      "Fundo Municipal de Desenvolvimento Urbano - FMDU: 0.00% dos gastos fixos totais\n",
      "Fundo Municipal de Habitação de Londrina - FMHL: 0.33% dos gastos fixos totais\n",
      "Fundo Municipal de Incentivo à Atividade Audiovisual: 0.00% dos gastos fixos totais\n",
      "Fundo Municipal de Preservação do Patrimônio Cultural de Londrina - FMP: 0.01% dos gastos fixos totais\n",
      "Fundo Municipal de Proteção e Defesa do Consumidor - PROCON - LD: 0.12% dos gastos fixos totais\n",
      "Fundo Municipal de Saneamento Básico e Desenvolvimento Sustentável - FMSBDS: 0.24% dos gastos fixos totais\n",
      "Fundo Municipal do Meio Ambiente - FMMA: 0.04% dos gastos fixos totais\n",
      "Fundo Municipal do Trabalho, Emprego e Renda de Londrina - FMTER: 0.00% dos gastos fixos totais\n",
      "Fundo Municipal dos Direitos da Criança e do Adolescente - FMDCA: 0.24% dos gastos fixos totais\n",
      "Fundo Municipal dos Direitos da Pessoa Idosa - FMDPI: 0.57% dos gastos fixos totais\n",
      "Fundo Municipal dos Direitos das Mulheres - FMDM: 0.43% dos gastos fixos totais\n",
      "Fundo de Proteção aos Animais - FUPA: 0.06% dos gastos fixos totais\n",
      "Fundo de Reequipamento do Corpo de Bombeiros - FUNREBOM: 0.02% dos gastos fixos totais\n",
      "Programa PROCIDADES - BID: 0.00% dos gastos fixos totais\n",
      "Programa de Modernização da Administração Tributária - PMAT: 0.00% dos gastos fixos totais\n",
      "Recursos do FUNDEB: 17.91% dos gastos fixos totais\n"
     ]
    }
   ],
   "source": [
    "# 4. Análise Textual da Distribuição dos Gastos por Área (ordenado decrescentemente)\n",
    "areas_gastos_percentual = areas_gastos_percentual.sort_values(ascending=False)\n",
    "\n",
    "print('\\nDistribuição dos Gastos Fixos por Unidade:')\n",
    "for unidade, percentual in areas_gastos_percentual.items():\n",
    "    print(f'{unidade}: {percentual:.2f}% dos gastos fixos totais')\n"
   ]
  }
 ],
 "metadata": {
  "kernelspec": {
   "display_name": "Python 3",
   "language": "python",
   "name": "python3"
  },
  "language_info": {
   "codemirror_mode": {
    "name": "ipython",
    "version": 3
   },
   "file_extension": ".py",
   "mimetype": "text/x-python",
   "name": "python",
   "nbconvert_exporter": "python",
   "pygments_lexer": "ipython3",
   "version": "3.10.12"
  }
 },
 "nbformat": 4,
 "nbformat_minor": 2
}
